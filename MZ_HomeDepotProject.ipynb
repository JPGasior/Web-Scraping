{
 "cells": [
  {
   "cell_type": "code",
   "execution_count": 1,
   "metadata": {},
   "outputs": [],
   "source": [
    "import urllib.request\n",
    "import time\n",
    "from bs4 import BeautifulSoup\n",
    "import pandas as pd"
   ]
  },
  {
   "cell_type": "code",
   "execution_count": 2,
   "metadata": {},
   "outputs": [
    {
     "name": "stdout",
     "output_type": "stream",
     "text": [
      "7\n",
      "['https://www.homedepot.com/b/Kitchen-Kitchen-Faucets/Delta/N-5yc1vZar0kZg2/Ntk-brandsearch/Ntt-delta%2Bfaucet?NCNI-5', 'https://www.homedepot.com/b/Kitchen-Kitchen-Faucets/Delta/N-5yc1vZar0kZg2/Ntk-brandsearch/Ntt-delta%2Bfaucet?NCNI-5&Nao=24&Ns=None', 'https://www.homedepot.com/b/Kitchen-Kitchen-Faucets/Delta/N-5yc1vZar0kZg2/Ntk-brandsearch/Ntt-delta%2Bfaucet?NCNI-5&Nao=48&Ns=None', 'https://www.homedepot.com/b/Kitchen-Kitchen-Faucets/Delta/N-5yc1vZar0kZg2/Ntk-brandsearch/Ntt-delta%2Bfaucet?NCNI-5&Nao=72&Ns=None', 'https://www.homedepot.com/b/Kitchen-Kitchen-Faucets/Delta/N-5yc1vZar0kZg2/Ntk-brandsearch/Ntt-delta%2Bfaucet?NCNI-5&Nao=96&Ns=None', 'https://www.homedepot.com/b/Kitchen-Kitchen-Faucets/Delta/N-5yc1vZar0kZg2/Ntk-brandsearch/Ntt-delta%2Bfaucet?NCNI-5&Nao=120&Ns=None', 'https://www.homedepot.com/b/Kitchen-Kitchen-Faucets/Delta/N-5yc1vZar0kZg2/Ntk-brandsearch/Ntt-delta%2Bfaucet?NCNI-5&Nao=144&Ns=None']\n"
     ]
    }
   ],
   "source": [
    "search_result_urls = []\n",
    "for i in range(7):\n",
    "    if i == 0:\n",
    "        cur_url = \"https://www.homedepot.com/b/Kitchen-Kitchen-Faucets/Delta/N-5yc1vZar0kZg2/Ntk-brandsearch/Ntt-delta%2Bfaucet?NCNI-5\"\n",
    "    else:\n",
    "        num = 24*i\n",
    "        cur_url = \"https://www.homedepot.com/b/Kitchen-Kitchen-Faucets/Delta/N-5yc1vZar0kZg2/Ntk-brandsearch/Ntt-delta%2Bfaucet?NCNI-5&Nao=\"+str(num)+\"&Ns=None\"\n",
    "    search_result_urls.append(cur_url)\n",
    "    time.sleep(1)\n",
    "print(len(search_result_urls))\n",
    "print(search_result_urls)"
   ]
  },
  {
   "cell_type": "code",
   "execution_count": 4,
   "metadata": {},
   "outputs": [
    {
     "name": "stdout",
     "output_type": "stream",
     "text": [
      "193\n",
      "193\n"
     ]
    }
   ],
   "source": [
    "#get 24 product links on 7 search result page\n",
    "product_records = []\n",
    "product_urls = []\n",
    "for url in search_result_urls:\n",
    "    Newpage = urllib.request.urlopen(url)\n",
    "    PageHtml = Newpage.read().decode('utf-8')\n",
    "    PageHtml_soup = BeautifulSoup(PageHtml,'html.parser')\n",
    "    #print(PageHtml_soup.prettify())\n",
    "    #find one product url\n",
    "    product_urls_inhtml = PageHtml_soup.find_all('a', attrs = {'data-pod-type':\"pr\"})\n",
    "    for product_url_inhtml in product_urls_inhtml:\n",
    "        product_suffix = product_url_inhtml['href']\n",
    "        product_url = \"https://www.homedepot.com\" + product_suffix\n",
    "        p_id = product_suffix.split('/')[-1]\n",
    "        record = (p_id, product_url)\n",
    "        product_urls.append(product_url)\n",
    "        product_records.append(record)        \n",
    "    time.sleep(1)\n",
    "print(len(product_records))\n",
    "print(len(product_urls))\n",
    "product_df = pd.DataFrame(product_records, columns=['p_id', 'product_url'])\n",
    "product_df.to_excel('products.xlsx', index = False)"
   ]
  },
  {
   "cell_type": "code",
   "execution_count": 7,
   "metadata": {},
   "outputs": [
    {
     "name": "stdout",
     "output_type": "stream",
     "text": [
      "1346\n"
     ]
    }
   ],
   "source": [
    "#get review for each product\n",
    "review_records=[]\n",
    "for product_url in product_urls:\n",
    "    product_Newpage = urllib.request.urlopen(product_url)\n",
    "    product_PageHtml = product_Newpage.read().decode('utf-8')\n",
    "    product_PageHtml_soup = BeautifulSoup(product_PageHtml,'html.parser')\n",
    "    p_id = product_url.split('/')[-1]\n",
    "    reviews = product_PageHtml_soup.find_all('div', attrs = {'class':\"bvseo-review\"})\n",
    "    for review in reviews:\n",
    "        itemReviewed = review.find_all('meta', attrs = {'itemprop':\"itemReviewed\"})\n",
    "        productname = itemReviewed[0]['content']\n",
    "        ratingValue_html = review.find_all('span', attrs = {'itemprop':\"ratingValue\"})\n",
    "        ratingValue = ratingValue_html[0].text\n",
    "        author_html = review.find_all('span', attrs = {'itemprop':\"author\"})\n",
    "        author = author_html[0].text\n",
    "        title_html = review.find_all('span', attrs = {'itemprop':\"name\"})\n",
    "        title = title_html[0].text\n",
    "        datePublished = review.find_all('meta', attrs = {'itemprop':\"datePublished\"})\n",
    "        date = datePublished[0]['content']\n",
    "        description_html = review.find_all('span',attrs = {'itemprop':\"description\"})\n",
    "        description = description_html[0].text              \n",
    "        record = (p_id, productname, ratingValue,author,title,date,description)\n",
    "        review_records.append(record)\n",
    "    time.sleep(0.2)\n",
    "#build dataframe and save as excel\n",
    "#visualize the data\n",
    "print(len(review_records))\n",
    "review_df = pd.DataFrame(review_records, columns=['p_id', 'ProductName','RatingValue','Author','Title','Date','Description'])\n",
    "review_df.to_excel('reviews.xlsx', index = True)"
   ]
  },
  {
   "cell_type": "code",
   "execution_count": null,
   "metadata": {},
   "outputs": [],
   "source": []
  }
 ],
 "metadata": {
  "kernelspec": {
   "display_name": "Python 3",
   "language": "python",
   "name": "python3"
  },
  "language_info": {
   "codemirror_mode": {
    "name": "ipython",
    "version": 3
   },
   "file_extension": ".py",
   "mimetype": "text/x-python",
   "name": "python",
   "nbconvert_exporter": "python",
   "pygments_lexer": "ipython3",
   "version": "3.7.1"
  }
 },
 "nbformat": 4,
 "nbformat_minor": 2
}
